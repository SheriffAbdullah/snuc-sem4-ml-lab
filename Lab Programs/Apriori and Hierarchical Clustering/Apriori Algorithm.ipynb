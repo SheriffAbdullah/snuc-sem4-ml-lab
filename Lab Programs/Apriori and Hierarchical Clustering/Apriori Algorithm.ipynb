{
 "cells": [
  {
   "cell_type": "markdown",
   "id": "ef3cef48",
   "metadata": {},
   "source": [
    "1. Implement Apriori algorithm in Python. Use the transaction data which you used in data mining as the input.\n",
    "\n",
    "Source: Pg. 287 of \"Data Mining - Concepts and Techniques\" by Jiawei Han, Micheline Kamber, and Jian Pei (3rd Edition - Morgan Kaufmann - 2011)"
   ]
  },
  {
   "cell_type": "code",
   "execution_count": 1,
   "id": "1e9a83d7",
   "metadata": {},
   "outputs": [],
   "source": [
    "TID = ['T100', 'T200', 'T300', 'T400', 'T500', 'T600', 'T700', 'T800', 'T900']\n",
    "transactions = [['I1', 'I2', 'I5'], ['I2', 'I4'], ['I2', 'I3'], ['I1', 'I2', 'I4'], ['I1', 'I3'], ['I2', 'I3'], ['I1', 'I3'], ['I1', 'I2', 'I3', 'I5'], ['I1', 'I2', 'I3']]\n",
    "min_support = 2\n",
    "\n",
    "data = dict(zip(TID, transactions))"
   ]
  },
  {
   "cell_type": "code",
   "execution_count": 2,
   "id": "107df7b5",
   "metadata": {},
   "outputs": [
    {
     "data": {
      "text/plain": [
       "{'T100': ['I1', 'I2', 'I5'],\n",
       " 'T200': ['I2', 'I4'],\n",
       " 'T300': ['I2', 'I3'],\n",
       " 'T400': ['I1', 'I2', 'I4'],\n",
       " 'T500': ['I1', 'I3'],\n",
       " 'T600': ['I2', 'I3'],\n",
       " 'T700': ['I1', 'I3'],\n",
       " 'T800': ['I1', 'I2', 'I3', 'I5'],\n",
       " 'T900': ['I1', 'I2', 'I3']}"
      ]
     },
     "execution_count": 2,
     "metadata": {},
     "output_type": "execute_result"
    }
   ],
   "source": [
    "data"
   ]
  },
  {
   "cell_type": "code",
   "execution_count": 3,
   "id": "102b29df",
   "metadata": {},
   "outputs": [],
   "source": [
    "# Convert all itemsets to 'frozensets'\n",
    "\n",
    "for i in data.keys():\n",
    "    data[i] = frozenset(data[i])"
   ]
  },
  {
   "cell_type": "code",
   "execution_count": 4,
   "id": "ca75a8df",
   "metadata": {},
   "outputs": [
    {
     "data": {
      "text/plain": [
       "{'T100': frozenset({'I1', 'I2', 'I5'}),\n",
       " 'T200': frozenset({'I2', 'I4'}),\n",
       " 'T300': frozenset({'I2', 'I3'}),\n",
       " 'T400': frozenset({'I1', 'I2', 'I4'}),\n",
       " 'T500': frozenset({'I1', 'I3'}),\n",
       " 'T600': frozenset({'I2', 'I3'}),\n",
       " 'T700': frozenset({'I1', 'I3'}),\n",
       " 'T800': frozenset({'I1', 'I2', 'I3', 'I5'}),\n",
       " 'T900': frozenset({'I1', 'I2', 'I3'})}"
      ]
     },
     "execution_count": 4,
     "metadata": {},
     "output_type": "execute_result"
    }
   ],
   "source": [
    "data"
   ]
  },
  {
   "cell_type": "code",
   "execution_count": 5,
   "id": "a396b56c",
   "metadata": {},
   "outputs": [],
   "source": [
    "# Generate First / Initial Candidate Itemsets\n",
    "\n",
    "def UniqueItems(data):\n",
    "    unique_items = set()\n",
    "    \n",
    "    for i in data.values():\n",
    "        unique_items = unique_items.union(i)\n",
    "    \n",
    "    return unique_items"
   ]
  },
  {
   "cell_type": "code",
   "execution_count": 6,
   "id": "37bab6e9",
   "metadata": {},
   "outputs": [
    {
     "data": {
      "text/plain": [
       "{'I1', 'I2', 'I3', 'I4', 'I5'}"
      ]
     },
     "execution_count": 6,
     "metadata": {},
     "output_type": "execute_result"
    }
   ],
   "source": [
    "c1 = UniqueItems(data)\n",
    "c1"
   ]
  },
  {
   "cell_type": "code",
   "execution_count": 7,
   "id": "9b8bed20",
   "metadata": {},
   "outputs": [],
   "source": [
    "def CalculateSupport(itemsets, data):\n",
    "    # Candidate Itemsets [C]\n",
    "    c = {}\n",
    "    \n",
    "    for i in itemsets:\n",
    "        c[i] = 0\n",
    "        for transaction in data.values():\n",
    "            if type(i) != frozenset:\n",
    "                c[i] += list(transaction).count(i)\n",
    "            else:\n",
    "                if set(i).issubset(transaction):\n",
    "                    c[i]+=1\n",
    "    \n",
    "    return c\n",
    "\n",
    "# If 'I1 I2 I3 I1 I2 I3' occurs in an itemset,\n",
    "# This algorithm must be extended to handle that.\n",
    "# As of now, it can only handle 'I1 I2 I3'\n",
    "# That is, it can only handle non-repetitive items in itemsets"
   ]
  },
  {
   "cell_type": "code",
   "execution_count": 8,
   "id": "7c4a1f2e",
   "metadata": {},
   "outputs": [],
   "source": [
    "def PruneItemset(c, min_support):\n",
    "    infrequent_itemsets = []\n",
    "\n",
    "    for itemset in c:\n",
    "        if c[itemset] < min_support:\n",
    "            infrequent_itemsets.append(itemset)\n",
    "\n",
    "    for itemset in infrequent_itemsets:\n",
    "        c.pop(itemset)\n",
    "\n",
    "    return c"
   ]
  },
  {
   "cell_type": "code",
   "execution_count": 9,
   "id": "e829d2a1",
   "metadata": {},
   "outputs": [
    {
     "data": {
      "text/plain": [
       "{'I3': 6, 'I4': 2, 'I2': 7, 'I5': 2, 'I1': 6}"
      ]
     },
     "execution_count": 9,
     "metadata": {},
     "output_type": "execute_result"
    }
   ],
   "source": [
    "c1 = CalculateSupport(c1, data)\n",
    "l1 = PruneItemset(c1, min_support)\n",
    "\n",
    "l1"
   ]
  },
  {
   "cell_type": "code",
   "execution_count": 10,
   "id": "b0c7ba15",
   "metadata": {},
   "outputs": [],
   "source": [
    "def JoinOperation(c, k=2):\n",
    "    if k < 2:\n",
    "        return c\n",
    "    \n",
    "    elif k == 2:\n",
    "        # Non-duplicate Combinations of all elements\n",
    "        c = [frozenset([i, j]) for i in c for j in c if i != j]\n",
    "        c = set(c)\n",
    "        return c   \n",
    "    \n",
    "    else:\n",
    "        c = list(c)\n",
    "        c.sort()\n",
    "        \n",
    "        new_c = []\n",
    "        for i in c:\n",
    "            tmp = list(i)\n",
    "            tmp.sort()\n",
    "            new_c.append(tmp)\n",
    "            \n",
    "        out = set()\n",
    "        for i in new_c:\n",
    "            for j in new_c:\n",
    "                # 'k-2' elements must be same to join\n",
    "                # 'k' -> number of items in itemset to be created\n",
    "                if i != j and i[:k-2] == j[:k-2]:\n",
    "                    out.add(frozenset(i).union(frozenset(j)))\n",
    "        return out"
   ]
  },
  {
   "cell_type": "code",
   "execution_count": 11,
   "id": "fc067085",
   "metadata": {},
   "outputs": [
    {
     "data": {
      "text/plain": [
       "{frozenset({'I1', 'I3'}): 4,\n",
       " frozenset({'I2', 'I3'}): 4,\n",
       " frozenset({'I2', 'I4'}): 2,\n",
       " frozenset({'I2', 'I5'}): 2,\n",
       " frozenset({'I1', 'I2'}): 4,\n",
       " frozenset({'I1', 'I5'}): 2}"
      ]
     },
     "execution_count": 11,
     "metadata": {},
     "output_type": "execute_result"
    }
   ],
   "source": [
    "c2 = JoinOperation(c1, k=2)\n",
    "c2 = CalculateSupport(c2, data)\n",
    "l2 = PruneItemset(c2, min_support)\n",
    "\n",
    "l2"
   ]
  },
  {
   "cell_type": "code",
   "execution_count": 12,
   "id": "0378ce37",
   "metadata": {},
   "outputs": [
    {
     "data": {
      "text/plain": [
       "{frozenset({'I1', 'I2', 'I5'}): 2, frozenset({'I1', 'I2', 'I3'}): 2}"
      ]
     },
     "execution_count": 12,
     "metadata": {},
     "output_type": "execute_result"
    }
   ],
   "source": [
    "c3 = JoinOperation(c2, k=3)\n",
    "c3 = CalculateSupport(c3, data)\n",
    "l3 = PruneItemset(c3, min_support)\n",
    "\n",
    "l3"
   ]
  },
  {
   "cell_type": "code",
   "execution_count": 13,
   "id": "a92d5f24",
   "metadata": {},
   "outputs": [
    {
     "data": {
      "text/plain": [
       "{}"
      ]
     },
     "execution_count": 13,
     "metadata": {},
     "output_type": "execute_result"
    }
   ],
   "source": [
    "c4 = JoinOperation(c3, k=4)\n",
    "c4 = CalculateSupport(c4, data)\n",
    "l4 = PruneItemset(c4, min_support)\n",
    "\n",
    "l4"
   ]
  },
  {
   "cell_type": "code",
   "execution_count": 14,
   "id": "e912844b",
   "metadata": {},
   "outputs": [],
   "source": [
    "def DisplayItemsets(itemsets):\n",
    "    keys = list(itemsets.keys())\n",
    "    \n",
    "    new_keys = []\n",
    "    for key in keys:\n",
    "        # If the itemset has only a single item\n",
    "        if type(key) != frozenset:\n",
    "            new_keys.append(key)\n",
    "        # If the itemset has multiple items\n",
    "        else:\n",
    "            # Sort the items in itemset\n",
    "            tmp = list(key)\n",
    "            tmp.sort()\n",
    "            new_keys.append(tmp)\n",
    "            \n",
    "    # Sort the entire list of itemsets\n",
    "    new_keys.sort()\n",
    "    \n",
    "    for key in new_keys:\n",
    "        if type(key) != list:\n",
    "            print(f\"{key} :\\t{itemsets[key]}\")\n",
    "        else:\n",
    "            tmp = list(key)\n",
    "            tmp.sort()\n",
    "            print(f\"{tmp} :\\t{itemsets[frozenset(key)]}\")\n",
    "    print()"
   ]
  },
  {
   "cell_type": "code",
   "execution_count": 15,
   "id": "a41f75b6",
   "metadata": {},
   "outputs": [],
   "source": [
    "def AprioriAlgorithm(data, min_support):\n",
    "    tmp = UniqueItems(data)\n",
    "    \n",
    "    i = 2\n",
    "    while True:\n",
    "        c = CalculateSupport(tmp, data)\n",
    "        c = PruneItemset(c, min_support)\n",
    "        \n",
    "        print(f\"*** L{i-1} ***\")\n",
    "        DisplayItemsets(c)\n",
    "        \n",
    "        tmp = c\n",
    "        tmp = JoinOperation(tmp, k=i)\n",
    "        \n",
    "        if len(c) == 0:\n",
    "            break\n",
    "        else:\n",
    "            i+=1"
   ]
  },
  {
   "cell_type": "code",
   "execution_count": 16,
   "id": "114ddd86",
   "metadata": {},
   "outputs": [
    {
     "name": "stdout",
     "output_type": "stream",
     "text": [
      "*** L1 ***\n",
      "I1 :\t6\n",
      "I2 :\t7\n",
      "I3 :\t6\n",
      "I4 :\t2\n",
      "I5 :\t2\n",
      "\n",
      "*** L2 ***\n",
      "['I1', 'I2'] :\t4\n",
      "['I1', 'I3'] :\t4\n",
      "['I1', 'I5'] :\t2\n",
      "['I2', 'I3'] :\t4\n",
      "['I2', 'I4'] :\t2\n",
      "['I2', 'I5'] :\t2\n",
      "\n",
      "*** L3 ***\n",
      "['I1', 'I2', 'I3'] :\t2\n",
      "['I1', 'I2', 'I5'] :\t2\n",
      "\n",
      "*** L4 ***\n",
      "\n"
     ]
    }
   ],
   "source": [
    "AprioriAlgorithm(data, min_support=2)"
   ]
  },
  {
   "cell_type": "code",
   "execution_count": null,
   "id": "17b95e8b",
   "metadata": {},
   "outputs": [],
   "source": []
  }
 ],
 "metadata": {
  "kernelspec": {
   "display_name": "Python 3 (ipykernel)",
   "language": "python",
   "name": "python3"
  },
  "language_info": {
   "codemirror_mode": {
    "name": "ipython",
    "version": 3
   },
   "file_extension": ".py",
   "mimetype": "text/x-python",
   "name": "python",
   "nbconvert_exporter": "python",
   "pygments_lexer": "ipython3",
   "version": "3.8.15"
  }
 },
 "nbformat": 4,
 "nbformat_minor": 5
}
