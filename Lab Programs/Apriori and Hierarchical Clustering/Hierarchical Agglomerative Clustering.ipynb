{
 "cells": [
  {
   "cell_type": "markdown",
   "id": "23bdaf85",
   "metadata": {},
   "source": [
    "2. Study and implement hierarchical clustering (agglomerative clustering: a bottom-up approach) which is very similar to k-means.\n",
    "\n",
    "[Note: The other type is 'Hierarchical Divisive Clustering', which is a top-down approach]"
   ]
  },
  {
   "cell_type": "code",
   "execution_count": 28,
   "id": "cc037011",
   "metadata": {},
   "outputs": [],
   "source": [
    "# Source: https://www.geeksforgeeks.org/ml-hierarchical-clustering-agglomerative-and-divisive-clustering/"
   ]
  },
  {
   "cell_type": "code",
   "execution_count": 1,
   "id": "d488bc13",
   "metadata": {},
   "outputs": [],
   "source": [
    "import pandas as pd\n",
    "import numpy as np\n",
    "import matplotlib.pyplot as plt"
   ]
  },
  {
   "cell_type": "markdown",
   "id": "0f0e01bf",
   "metadata": {},
   "source": [
    "<h4> Create Datapoints </h4>"
   ]
  },
  {
   "cell_type": "code",
   "execution_count": 2,
   "id": "6a742bfb",
   "metadata": {},
   "outputs": [],
   "source": [
    "np.random.seed(0)\n",
    "\n",
    "# np.random.normal(mean, std_deviation, output_shape)\n",
    "cluster1 = np.random.normal(10, 3, (30, 30))\n",
    "cluster2 = np.random.normal(20, 3, (30, 30))"
   ]
  },
  {
   "cell_type": "code",
   "execution_count": 3,
   "id": "a39bb295",
   "metadata": {},
   "outputs": [],
   "source": [
    "x1 = cluster1[0]\n",
    "y1 = cluster1[1]\n",
    "\n",
    "x2 = cluster2[0]\n",
    "y2 = cluster2[1]"
   ]
  },
  {
   "cell_type": "code",
   "execution_count": 4,
   "id": "63fc211f",
   "metadata": {},
   "outputs": [
    {
     "data": {
      "text/plain": [
       "<matplotlib.collections.PathCollection at 0x160549880>"
      ]
     },
     "execution_count": 4,
     "metadata": {},
     "output_type": "execute_result"
    },
    {
     "data": {
      "image/png": "[encoded data removed]",
      "text/plain": [
       "<Figure size 640x480 with 1 Axes>"
      ]
     },
     "metadata": {},
     "output_type": "display_data"
    }
   ],
   "source": [
    "plt.scatter(x1, y1)\n",
    "plt.scatter(x2, y2)"
   ]
  },
  {
   "cell_type": "code",
   "execution_count": 22,
   "id": "dc6ff58c",
   "metadata": {},
   "outputs": [
    {
     "data": {
      "text/plain": [
       "[0,\n",
       " 0,\n",
       " 0,\n",
       " 0,\n",
       " 0,\n",
       " 0,\n",
       " 0,\n",
       " 0,\n",
       " 0,\n",
       " 0,\n",
       " 0,\n",
       " 0,\n",
       " 0,\n",
       " 0,\n",
       " 0,\n",
       " 0,\n",
       " 0,\n",
       " 0,\n",
       " 0,\n",
       " 0,\n",
       " 0,\n",
       " 0,\n",
       " 0,\n",
       " 0,\n",
       " 0,\n",
       " 0,\n",
       " 0,\n",
       " 0,\n",
       " 0,\n",
       " 0,\n",
       " 1,\n",
       " 1,\n",
       " 1,\n",
       " 1,\n",
       " 1,\n",
       " 1,\n",
       " 1,\n",
       " 1,\n",
       " 1,\n",
       " 1,\n",
       " 1,\n",
       " 1,\n",
       " 1,\n",
       " 1,\n",
       " 1,\n",
       " 1,\n",
       " 1,\n",
       " 1,\n",
       " 1,\n",
       " 1,\n",
       " 1,\n",
       " 1,\n",
       " 1,\n",
       " 1,\n",
       " 1,\n",
       " 1,\n",
       " 1,\n",
       " 1,\n",
       " 1,\n",
       " 1]"
      ]
     },
     "execution_count": 22,
     "metadata": {},
     "output_type": "execute_result"
    }
   ],
   "source": [
    "data = (np.concatenate((x1, x2)), np.concatenate((y1, y2)))\n",
    "\n",
    "class_labels = [0 for i in range(len(x1))]\n",
    "class_labels.extend([1 for i in range(len(x2))])\n",
    "\n",
    "class_labels"
   ]
  },
  {
   "cell_type": "code",
   "execution_count": 6,
   "id": "1b4c57be",
   "metadata": {},
   "outputs": [],
   "source": [
    "import math\n",
    "\n",
    "def distance(point1, point2, metric='euclidean'):\n",
    "    if metric == 'euclidean':\n",
    "        return math.sqrt(math.pow(point1[0] - point2[0], 2) + math.pow(point1[1] - point2[1], 2))\n",
    "    elif metric == 'manhattan':\n",
    "        return abs(point1[0] - point2[0]) - abs(point1[1] - point2[1])"
   ]
  },
  {
   "cell_type": "code",
   "execution_count": 7,
   "id": "7e3b9d7b",
   "metadata": {},
   "outputs": [],
   "source": [
    "def CreateClusters(x, y):\n",
    "    clusters = []\n",
    "\n",
    "    for i in zip(x, y):\n",
    "        clusters.append(i)\n",
    "        \n",
    "    return clusters"
   ]
  },
  {
   "cell_type": "code",
   "execution_count": 25,
   "id": "17fbd2db",
   "metadata": {},
   "outputs": [],
   "source": [
    "# Agglomerative Clustering (Bottom-Up) is a type of Hierarchical Clustering\n",
    "\n",
    "def AgglomeratedClusters(x, y, n_clusters=1):\n",
    "    clusters = CreateClusters(x, y)\n",
    "    \n",
    "    while len(clusters) != n_clusters:\n",
    "        # Find the 2 clusters with the minimum distance\n",
    "        min_point1 = ()\n",
    "        min_point2 = ()\n",
    "        min_dist = 99999\n",
    "        \n",
    "        for i in range(len(clusters)):\n",
    "            for j in range(i, len(clusters)):\n",
    "                # Avoid considering the distance of cluster with itself\n",
    "                if i != j:\n",
    "                    d = distance(clusters[i], clusters[j])\n",
    "\n",
    "                    if d < min_dist:\n",
    "                        min_point1 = i\n",
    "                        min_point2 = j\n",
    "                        min_dist = d\n",
    "\n",
    "        x1 = clusters[min_point1][0]\n",
    "        y1 = clusters[min_point1][1]\n",
    "\n",
    "        x2 = clusters[min_point2][0]\n",
    "        y2 = clusters[min_point2][1]\n",
    "\n",
    "        # Append centroid of 2 closest clusters\n",
    "        x = (x1 + x2) / 2\n",
    "        y = (y1 + y2) / 2\n",
    "        clusters.append((x, y))\n",
    "\n",
    "        clusters.pop(min_point1)\n",
    "        clusters.pop(min_point2)\n",
    "\n",
    "    return clusters"
   ]
  },
  {
   "cell_type": "code",
   "execution_count": 26,
   "id": "bcb34acf",
   "metadata": {},
   "outputs": [
    {
     "data": {
      "text/plain": [
       "[(7.7735049387806745, 6.458103447632764),\n",
       " (17.04401678202606, 21.35767731994906)]"
      ]
     },
     "execution_count": 26,
     "metadata": {},
     "output_type": "execute_result"
    }
   ],
   "source": [
    "AgglomeratedClusters(data[0], data[1], 2)"
   ]
  },
  {
   "cell_type": "code",
   "execution_count": 10,
   "id": "2d305997",
   "metadata": {},
   "outputs": [],
   "source": [
    "def AgglomerativeClustering(x, y, n_clusters = 2):\n",
    "    clusters = AgglomeratedClusters(x, y, n_clusters)\n",
    "    \n",
    "    out = []\n",
    "    \n",
    "    for i in zip(x, y):\n",
    "        min_dist = 9999\n",
    "        \n",
    "        for j in range(len(clusters)):\n",
    "            d = distance(i, clusters[j])\n",
    "            \n",
    "            if (d < min_dist):\n",
    "                min_dist = d\n",
    "                cls = j\n",
    "        \n",
    "        out.append(cls)\n",
    "        \n",
    "    return out\n"
   ]
  },
  {
   "cell_type": "code",
   "execution_count": 20,
   "id": "c79a0fab",
   "metadata": {},
   "outputs": [],
   "source": [
    "pred = AgglomerativeClustering(data[0], data[1], 2)"
   ]
  },
  {
   "cell_type": "code",
   "execution_count": 21,
   "id": "f629d453",
   "metadata": {},
   "outputs": [
    {
     "data": {
      "text/plain": [
       "array([[28,  2],\n",
       "       [ 0, 30]])"
      ]
     },
     "execution_count": 21,
     "metadata": {},
     "output_type": "execute_result"
    }
   ],
   "source": [
    "from sklearn.metrics import confusion_matrix\n",
    "\n",
    "confusion_matrix(class_labels, pred)"
   ]
  }
 ],
 "metadata": {
  "kernelspec": {
   "display_name": "Python 3 (ipykernel)",
   "language": "python",
   "name": "python3"
  },
  "language_info": {
   "codemirror_mode": {
    "name": "ipython",
    "version": 3
   },
   "file_extension": ".py",
   "mimetype": "text/x-python",
   "name": "python",
   "nbconvert_exporter": "python",
   "pygments_lexer": "ipython3",
   "version": "3.8.15"
  }
 },
 "nbformat": 4,
 "nbformat_minor": 5
}
