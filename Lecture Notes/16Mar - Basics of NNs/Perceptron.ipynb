{
 "cells": [
  {
   "cell_type": "markdown",
   "id": "1bb9e1e5",
   "metadata": {},
   "source": [
    "<h3> Building a Perceptron </h3>"
   ]
  },
  {
   "cell_type": "code",
   "execution_count": 2,
   "id": "0a928e6a",
   "metadata": {},
   "outputs": [],
   "source": [
    "import numpy as np, random"
   ]
  },
  {
   "cell_type": "code",
   "execution_count": null,
   "id": "1c999183",
   "metadata": {},
   "outputs": [],
   "source": [
    "def Perceptron(i1, i2, o):\n",
    "    op = i1 * weights[0] + i2 * weights[1] + bias * weights[2]\n",
    "    "
   ]
  },
  {
   "cell_type": "code",
   "execution_count": null,
   "id": "6e3d5ae3",
   "metadata": {},
   "outputs": [],
   "source": [
    "# What is 'Keras Adam Optimizer'?"
   ]
  },
  {
   "cell_type": "markdown",
   "id": "af17b1ba",
   "metadata": {},
   "source": [
    "<h3> ANN using Keras to Predict whether a person will quit a job </h3>"
   ]
  },
  {
   "cell_type": "code",
   "execution_count": null,
   "id": "2da22695",
   "metadata": {},
   "outputs": [],
   "source": []
  }
 ],
 "metadata": {
  "kernelspec": {
   "display_name": "Python 3 (ipykernel)",
   "language": "python",
   "name": "python3"
  },
  "language_info": {
   "codemirror_mode": {
    "name": "ipython",
    "version": 3
   },
   "file_extension": ".py",
   "mimetype": "text/x-python",
   "name": "python",
   "nbconvert_exporter": "python",
   "pygments_lexer": "ipython3",
   "version": "3.8.15"
  }
 },
 "nbformat": 4,
 "nbformat_minor": 5
}
