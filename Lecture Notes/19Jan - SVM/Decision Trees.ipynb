{
 "cells": [
  {
   "cell_type": "markdown",
   "id": "b84f89ab",
   "metadata": {},
   "source": [
    "Name: Abdullah Sheriff\n",
    "\n",
    "Roll Number: 21110220\n",
    "\n",
    "Registration Number: 21011101005\n",
    "\n",
    "Subject: Machine Learning Techniques + Lab"
   ]
  },
  {
   "cell_type": "markdown",
   "id": "31f64f9a",
   "metadata": {},
   "source": [
    "1. Use the classification.csv file and compute the Gini index for age and salary column."
   ]
  },
  {
   "cell_type": "code",
   "execution_count": 2,
   "id": "f2b84c20",
   "metadata": {},
   "outputs": [],
   "source": [
    "import pandas as pd\n",
    "\n",
    "data = pd.read_csv(\"classification.csv\")"
   ]
  },
  {
   "cell_type": "code",
   "execution_count": 5,
   "id": "90c71b70",
   "metadata": {},
   "outputs": [
    {
     "data": {
      "text/html": [
       "<div>\n",
       "<style scoped>\n",
       "    .dataframe tbody tr th:only-of-type {\n",
       "        vertical-align: middle;\n",
       "    }\n",
       "\n",
       "    .dataframe tbody tr th {\n",
       "        vertical-align: top;\n",
       "    }\n",
       "\n",
       "    .dataframe thead th {\n",
       "        text-align: right;\n",
       "    }\n",
       "</style>\n",
       "<table border=\"1\" class=\"dataframe\">\n",
       "  <thead>\n",
       "    <tr style=\"text-align: right;\">\n",
       "      <th></th>\n",
       "      <th>Age</th>\n",
       "      <th>EstimatedSalary</th>\n",
       "      <th>Purchased</th>\n",
       "    </tr>\n",
       "  </thead>\n",
       "  <tbody>\n",
       "    <tr>\n",
       "      <th>0</th>\n",
       "      <td>19</td>\n",
       "      <td>19000</td>\n",
       "      <td>0</td>\n",
       "    </tr>\n",
       "    <tr>\n",
       "      <th>1</th>\n",
       "      <td>35</td>\n",
       "      <td>20000</td>\n",
       "      <td>0</td>\n",
       "    </tr>\n",
       "    <tr>\n",
       "      <th>2</th>\n",
       "      <td>26</td>\n",
       "      <td>43000</td>\n",
       "      <td>0</td>\n",
       "    </tr>\n",
       "    <tr>\n",
       "      <th>3</th>\n",
       "      <td>27</td>\n",
       "      <td>57000</td>\n",
       "      <td>0</td>\n",
       "    </tr>\n",
       "    <tr>\n",
       "      <th>4</th>\n",
       "      <td>19</td>\n",
       "      <td>76000</td>\n",
       "      <td>0</td>\n",
       "    </tr>\n",
       "  </tbody>\n",
       "</table>\n",
       "</div>"
      ],
      "text/plain": [
       "   Age  EstimatedSalary  Purchased\n",
       "0   19            19000          0\n",
       "1   35            20000          0\n",
       "2   26            43000          0\n",
       "3   27            57000          0\n",
       "4   19            76000          0"
      ]
     },
     "execution_count": 5,
     "metadata": {},
     "output_type": "execute_result"
    }
   ],
   "source": [
    "data.head()"
   ]
  },
  {
   "cell_type": "code",
   "execution_count": 3,
   "id": "5413e510",
   "metadata": {},
   "outputs": [],
   "source": [
    "# Gini Index: 1 - (p1^2 + p2^2 + ...)\n",
    "# p = Probability of a unique element occurring.\n",
    "\n",
    "# Measure of Diversity. More Diversity, More value of Gini Index.\n",
    "# In simple terms, it is the probability of\n",
    "# 2 randomly picked (even the same) elements being distinct.\n",
    "\n",
    "def GiniIndex(col_name, df):\n",
    "    N = len(df)\n",
    "\n",
    "    unique_values = df[col_name].unique()\n",
    "    col = list(df[col_name])\n",
    "\n",
    "    tmp = 0\n",
    "    for val in unique_values:\n",
    "        p = col.count(val) / N\n",
    "        tmp +=  p ** 2\n",
    "\n",
    "    return 1 - tmp"
   ]
  },
  {
   "cell_type": "code",
   "execution_count": 4,
   "id": "fbcb5826",
   "metadata": {},
   "outputs": [],
   "source": [
    "def WeightedGiniIndex(val, col_name, target_column_name, df):\n",
    "    N = len(df)\n",
    "    \n",
    "    left_df = df[df[col_name] < val]\n",
    "    right_df = df[df[col_name] > val]\n",
    "    \n",
    "    p_left = len(left_df) / N\n",
    "    p_right = len(right_df) / N\n",
    "    \n",
    "    return p_left * GiniIndex(target_column_name, left_df) + p_right * GiniIndex(target_column_name, right_df)"
   ]
  },
  {
   "cell_type": "code",
   "execution_count": 5,
   "id": "87276c5c",
   "metadata": {},
   "outputs": [],
   "source": [
    "def MinimumWeightedGiniIndex(col_name, target_column_name, df):\n",
    "    N = len(df)\n",
    "    \n",
    "    unique_values = df[col_name].unique()\n",
    "    unique_values.sort()\n",
    "\n",
    "    unique_values = list(unique_values)\n",
    "    \n",
    "    min_gini = 1\n",
    "    for i in range(len(unique_values)-1):\n",
    "        avg = (unique_values[i+1] + unique_values[i]) / 2\n",
    "        \n",
    "        gini = WeightedGiniIndex(avg, col_name, target_column_name, df)\n",
    "        \n",
    "        if gini < min_gini:\n",
    "            min_gini = gini\n",
    "            min_split_value = avg\n",
    "    \n",
    "    return min_split_value, min_gini"
   ]
  },
  {
   "cell_type": "code",
   "execution_count": 6,
   "id": "4557702b",
   "metadata": {},
   "outputs": [
    {
     "data": {
      "text/plain": [
       "(42.5, 0.268790236460717)"
      ]
     },
     "execution_count": 6,
     "metadata": {},
     "output_type": "execute_result"
    }
   ],
   "source": [
    "MinimumWeightedGiniIndex('Age', 'Purchased', data)"
   ]
  },
  {
   "cell_type": "code",
   "execution_count": 7,
   "id": "1d7a02d2",
   "metadata": {
    "scrolled": true
   },
   "outputs": [
    {
     "name": "stdout",
     "output_type": "stream",
     "text": [
      "Gini index of age: 0.268790236460717\n",
      "Gini index of salary: 0.32756555944055943\n"
     ]
    }
   ],
   "source": [
    "print(f\"Gini index of age: {MinimumWeightedGiniIndex('Age', 'Purchased', data)[1]}\")\n",
    "print(f\"Gini index of salary: {MinimumWeightedGiniIndex('EstimatedSalary', 'Purchased', data)[1]}\")"
   ]
  },
  {
   "cell_type": "markdown",
   "id": "c6197232",
   "metadata": {},
   "source": [
    "2. Create decision tree algorithm from scratch without using 'sklearn' library. You may assume that all the columns in the data will be categorical in nature. Give a new data for prediction and print the predicted output along with the probabilities."
   ]
  },
  {
   "cell_type": "code",
   "execution_count": 8,
   "id": "26da8bea",
   "metadata": {},
   "outputs": [],
   "source": [
    "data = pd.read_csv('golf_df.csv')"
   ]
  },
  {
   "cell_type": "code",
   "execution_count": 11,
   "id": "9734f5b9",
   "metadata": {
    "scrolled": true
   },
   "outputs": [
    {
     "data": {
      "text/html": [
       "<div>\n",
       "<style scoped>\n",
       "    .dataframe tbody tr th:only-of-type {\n",
       "        vertical-align: middle;\n",
       "    }\n",
       "\n",
       "    .dataframe tbody tr th {\n",
       "        vertical-align: top;\n",
       "    }\n",
       "\n",
       "    .dataframe thead th {\n",
       "        text-align: right;\n",
       "    }\n",
       "</style>\n",
       "<table border=\"1\" class=\"dataframe\">\n",
       "  <thead>\n",
       "    <tr style=\"text-align: right;\">\n",
       "      <th></th>\n",
       "      <th>Outlook</th>\n",
       "      <th>Temperature</th>\n",
       "      <th>Humidity</th>\n",
       "      <th>Windy</th>\n",
       "      <th>Play</th>\n",
       "    </tr>\n",
       "  </thead>\n",
       "  <tbody>\n",
       "    <tr>\n",
       "      <th>0</th>\n",
       "      <td>sunny</td>\n",
       "      <td>hot</td>\n",
       "      <td>high</td>\n",
       "      <td>Weak</td>\n",
       "      <td>no</td>\n",
       "    </tr>\n",
       "    <tr>\n",
       "      <th>1</th>\n",
       "      <td>sunny</td>\n",
       "      <td>hot</td>\n",
       "      <td>high</td>\n",
       "      <td>Strong</td>\n",
       "      <td>no</td>\n",
       "    </tr>\n",
       "    <tr>\n",
       "      <th>2</th>\n",
       "      <td>overcast</td>\n",
       "      <td>hot</td>\n",
       "      <td>high</td>\n",
       "      <td>Weak</td>\n",
       "      <td>yes</td>\n",
       "    </tr>\n",
       "    <tr>\n",
       "      <th>3</th>\n",
       "      <td>rainy</td>\n",
       "      <td>mild</td>\n",
       "      <td>high</td>\n",
       "      <td>Weak</td>\n",
       "      <td>yes</td>\n",
       "    </tr>\n",
       "    <tr>\n",
       "      <th>4</th>\n",
       "      <td>rainy</td>\n",
       "      <td>cool</td>\n",
       "      <td>normal</td>\n",
       "      <td>Weak</td>\n",
       "      <td>yes</td>\n",
       "    </tr>\n",
       "  </tbody>\n",
       "</table>\n",
       "</div>"
      ],
      "text/plain": [
       "    Outlook Temperature Humidity   Windy Play\n",
       "0     sunny         hot     high    Weak   no\n",
       "1     sunny         hot     high  Strong   no\n",
       "2  overcast         hot     high    Weak  yes\n",
       "3     rainy        mild     high    Weak  yes\n",
       "4     rainy        cool   normal    Weak  yes"
      ]
     },
     "execution_count": 11,
     "metadata": {},
     "output_type": "execute_result"
    }
   ],
   "source": [
    "data.head()"
   ]
  },
  {
   "cell_type": "code",
   "execution_count": 10,
   "id": "4055f8c7",
   "metadata": {},
   "outputs": [],
   "source": [
    "data['Windy'] = data['Windy'].replace(False, 'Weak')\n",
    "data['Windy'] = data['Windy'].replace(True, 'Strong')"
   ]
  },
  {
   "cell_type": "code",
   "execution_count": 12,
   "id": "82850e5c",
   "metadata": {},
   "outputs": [],
   "source": [
    "# Shannon Enropy 'H(S)', measure of uncertainty or randomness in data.\n",
    "# Entropy = 0 -> No Randomness, accurately predictable.\n",
    "# Smaller entropy, smaller uncertainity & vice-versa.\n",
    "\n",
    "import math\n",
    "\n",
    "def ShannonEntropy(col_name, df):\n",
    "    N = len(df)\n",
    "\n",
    "    unique_values = df[col_name].unique()\n",
    "    col = list(df[col_name])\n",
    "\n",
    "    tmp = 0\n",
    "    for val in unique_values:\n",
    "        p = col.count(val) / N\n",
    "        tmp += p * math.log2(1 / p)\n",
    "\n",
    "    return tmp"
   ]
  },
  {
   "cell_type": "code",
   "execution_count": 13,
   "id": "784a75d8",
   "metadata": {},
   "outputs": [],
   "source": [
    "# Information Gain: Effective change in entropy after\n",
    "# deciding on a particular attribute.\n",
    "# Resource: https://victorzhou.com/blog/information-gain/\n",
    "\n",
    "def InformationGain(priori_col_name, col_name, df):\n",
    "    N = len(df)\n",
    "\n",
    "    unique_values = df[col_name].unique()\n",
    "    col = list(df[col_name])\n",
    "\n",
    "    tmp = 0\n",
    "    for val in unique_values:\n",
    "        p = col.count(val) / N\n",
    "        tmp += p * ShannonEntropy(priori_col_name, df[df[col_name] == val])\n",
    "    \n",
    "    return ShannonEntropy(priori_col_name, df) - tmp\n"
   ]
  },
  {
   "cell_type": "code",
   "execution_count": 14,
   "id": "7959d52f",
   "metadata": {
    "scrolled": true
   },
   "outputs": [
    {
     "data": {
      "text/plain": [
       "0.9402859586706309"
      ]
     },
     "execution_count": 14,
     "metadata": {},
     "output_type": "execute_result"
    }
   ],
   "source": [
    "ShannonEntropy('Play', data)"
   ]
  },
  {
   "cell_type": "code",
   "execution_count": 15,
   "id": "3f87b116",
   "metadata": {
    "scrolled": true
   },
   "outputs": [
    {
     "data": {
      "text/plain": [
       "0.04812703040826927"
      ]
     },
     "execution_count": 15,
     "metadata": {},
     "output_type": "execute_result"
    }
   ],
   "source": [
    "InformationGain('Play', 'Windy', data)"
   ]
  },
  {
   "cell_type": "code",
   "execution_count": 16,
   "id": "58ebf3a9",
   "metadata": {},
   "outputs": [],
   "source": [
    "tree = {}\n",
    "\n",
    "def C50Algorithm(col_name, data):\n",
    "    # If all examples are +ve / -ve\n",
    "    if len(data[col_name].unique()) == 1:\n",
    "        return data[col_name].unique()[0]\n",
    "\n",
    "    else:\n",
    "        # Calculate attribute which has maximum IG\n",
    "        max_ig = 0\n",
    "        max_ig_col = ''\n",
    "\n",
    "        for c in data.columns:\n",
    "            if c == col_name:\n",
    "                continue\n",
    "\n",
    "            tmp = InformationGain(col_name, c, data)\n",
    "\n",
    "            if tmp > max_ig:\n",
    "                max_ig = tmp\n",
    "                max_ig_col = c\n",
    "\n",
    "        # Create a node with that column\n",
    "        t = {}\n",
    "        t[max_ig_col] = {}\n",
    "        \n",
    "        # Create Tree\n",
    "        for i in data[max_ig_col].unique():\n",
    "            # Remove datapoints corresponding to max IG column's values\n",
    "            temp_col = data[data[max_ig_col] == i]\n",
    "            temp_col = temp_col.drop(max_ig_col, axis=1)\n",
    "            t[max_ig_col][i] = C50Algorithm(col_name, temp_col)\n",
    "            \n",
    "        return t"
   ]
  },
  {
   "cell_type": "markdown",
   "id": "b490ce66",
   "metadata": {},
   "source": [
    "<u> Graph Answer Output: </u>\n",
    "\n",
    "{'Outlook': {\"sunny\": , \"overcast\": , \"rainy\": }}\n",
    "\n",
    " v\n",
    " \n",
    "{'Outlook': {\"sunny\": {\"Humidity\": {\"normal\":, \"high\":}}, \"overcast\": , \"rainy\": }}\n",
    "\n",
    " v\n",
    " \n",
    "{'Outlook': {\"sunny\": {\"Humidity\": {\"normal\":\"Yes\", \"high\":\"No\"}}, \"overcast\": , \"rainy\": }}\n",
    "\n",
    " v\n",
    " \n",
    "{'Outlook': {\"sunny\": {\"Humidity\": {\"normal\":\"Yes\", \"high\":\"No\"}}, \"overcast\": \"Yes\", \"rainy\": }}\n",
    "\n",
    " v\n",
    " \n",
    "{'Outlook': {\"sunny\": {\"Humidity\": {\"normal\":\"Yes\", \"high\":\"No\"}}, \"overcast\": \"Yes\", \"rainy\": {'Windy': {'Weak': 'yes', 'Strong': 'no'}}}}\n"
   ]
  },
  {
   "cell_type": "code",
   "execution_count": 17,
   "id": "beeed80c",
   "metadata": {
    "scrolled": false
   },
   "outputs": [
    {
     "name": "stdout",
     "output_type": "stream",
     "text": [
      "{'Outlook': {'sunny': {'Humidity': {'high': 'no', 'normal': 'yes'}}, 'overcast': 'yes', 'rainy': {'Windy': {'Weak': 'yes', 'Strong': 'no'}}}}\n"
     ]
    }
   ],
   "source": [
    "tree = C50Algorithm('Play', data)\n",
    "print(tree)"
   ]
  },
  {
   "cell_type": "code",
   "execution_count": 18,
   "id": "c5e80479",
   "metadata": {},
   "outputs": [],
   "source": [
    "def PredictOutput(val, tree):\n",
    "    if (type(tree) == str):\n",
    "        return tree\n",
    "    else:\n",
    "        for k,v in tree.items():\n",
    "            # Traverse the node\n",
    "            tree = v[val[k]]\n",
    "            del val[k]\n",
    "            return PredictOutput(val, tree)\n"
   ]
  },
  {
   "cell_type": "code",
   "execution_count": 19,
   "id": "834526a2",
   "metadata": {},
   "outputs": [
    {
     "name": "stdout",
     "output_type": "stream",
     "text": [
      "no\n"
     ]
    }
   ],
   "source": [
    "data_point = {\"Outlook\": 'sunny', \"Temperature\": 'hot', \"Humidity\": 'high', \"Windy\": 'Weak'}\n",
    "\n",
    "print(PredictOutput(data_point, tree))"
   ]
  },
  {
   "cell_type": "code",
   "execution_count": 19,
   "id": "e1133d73",
   "metadata": {},
   "outputs": [],
   "source": [
    "# Visualize Tree\n",
    "\n",
    "import pydot\n",
    "\n",
    "def draw(parent_name, child_name):\n",
    "    edge = pydot.Edge(parent_name, child_name)\n",
    "    graph.add_edge(edge)\n",
    "\n",
    "def visit(node, parent=None):\n",
    "    for k,v in node.items():\n",
    "        if isinstance(v, dict):\n",
    "            # We start with the root node whose parent is None\n",
    "            # we don't want to graph the None node\n",
    "            if parent:\n",
    "                draw(parent, k)\n",
    "            visit(v, k)\n",
    "        else:\n",
    "            draw(parent, k)\n",
    "            # drawing the label using a distinct name\n",
    "            draw(k, k+'_'+v)\n",
    "\n",
    "graph = pydot.Dot(graph_type='graph')\n",
    "visit(tree)\n",
    "\n",
    "# Save as image\n",
    "graph.write_png('example1_graph.png')"
   ]
  },
  {
   "cell_type": "code",
   "execution_count": null,
   "id": "5baea34f",
   "metadata": {},
   "outputs": [],
   "source": []
  }
 ],
 "metadata": {
  "kernelspec": {
   "display_name": "Python 3 (ipykernel)",
   "language": "python",
   "name": "python3"
  },
  "language_info": {
   "codemirror_mode": {
    "name": "ipython",
    "version": 3
   },
   "file_extension": ".py",
   "mimetype": "text/x-python",
   "name": "python",
   "nbconvert_exporter": "python",
   "pygments_lexer": "ipython3",
   "version": "3.8.15"
  }
 },
 "nbformat": 4,
 "nbformat_minor": 5
}
