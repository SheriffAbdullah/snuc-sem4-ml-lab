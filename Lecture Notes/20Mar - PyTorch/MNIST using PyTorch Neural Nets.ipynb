{
 "cells": [
  {
   "cell_type": "markdown",
   "id": "adf67bd4",
   "metadata": {},
   "source": [
    "Inspiration: https://www.youtube.com/watch?v=BzcBsTou0C0&list=PLQVvvaa0QuDdeMyHEYc0gxFpYwHY2Qfdh&index=2"
   ]
  },
  {
   "cell_type": "code",
   "execution_count": 194,
   "id": "81f9001d",
   "metadata": {},
   "outputs": [],
   "source": [
    "import torch\n",
    "import torchvision\n",
    "from torchvision import datasets, transforms"
   ]
  },
  {
   "cell_type": "code",
   "execution_count": 195,
   "id": "6418bc5c",
   "metadata": {},
   "outputs": [],
   "source": [
    "train = datasets.MNIST(\"\", train=True, download=True, transform=transforms.Compose([transforms.ToTensor()]))\n",
    "\n",
    "test = datasets.MNIST(\"\", train=False, download=True, transform=transforms.Compose([transforms.ToTensor()]))"
   ]
  },
  {
   "cell_type": "code",
   "execution_count": 196,
   "id": "eca27977",
   "metadata": {},
   "outputs": [],
   "source": [
    "trainset = torch.utils.data.DataLoader(train, shuffle=True, batch_size=10)\n",
    "\n",
    "testset = torch.utils.data.DataLoader(test, shuffle=True, batch_size=10)"
   ]
  },
  {
   "cell_type": "code",
   "execution_count": 197,
   "id": "92afe4c8",
   "metadata": {},
   "outputs": [],
   "source": [
    "# 'Generalization' is the Name of the Game\n",
    "\n",
    "# (i) Batching - Not training all data at once; \n",
    "# (ii) Shuffling - When picking up samples, do not pick up ALL '1's in a batch. Have a good mix of all numbers."
   ]
  },
  {
   "cell_type": "code",
   "execution_count": 198,
   "id": "99ca2da4",
   "metadata": {},
   "outputs": [
    {
     "name": "stdout",
     "output_type": "stream",
     "text": [
      "[tensor([[[[0., 0., 0.,  ..., 0., 0., 0.],\n",
      "          [0., 0., 0.,  ..., 0., 0., 0.],\n",
      "          [0., 0., 0.,  ..., 0., 0., 0.],\n",
      "          ...,\n",
      "          [0., 0., 0.,  ..., 0., 0., 0.],\n",
      "          [0., 0., 0.,  ..., 0., 0., 0.],\n",
      "          [0., 0., 0.,  ..., 0., 0., 0.]]],\n",
      "\n",
      "\n",
      "        [[[0., 0., 0.,  ..., 0., 0., 0.],\n",
      "          [0., 0., 0.,  ..., 0., 0., 0.],\n",
      "          [0., 0., 0.,  ..., 0., 0., 0.],\n",
      "          ...,\n",
      "          [0., 0., 0.,  ..., 0., 0., 0.],\n",
      "          [0., 0., 0.,  ..., 0., 0., 0.],\n",
      "          [0., 0., 0.,  ..., 0., 0., 0.]]],\n",
      "\n",
      "\n",
      "        [[[0., 0., 0.,  ..., 0., 0., 0.],\n",
      "          [0., 0., 0.,  ..., 0., 0., 0.],\n",
      "          [0., 0., 0.,  ..., 0., 0., 0.],\n",
      "          ...,\n",
      "          [0., 0., 0.,  ..., 0., 0., 0.],\n",
      "          [0., 0., 0.,  ..., 0., 0., 0.],\n",
      "          [0., 0., 0.,  ..., 0., 0., 0.]]],\n",
      "\n",
      "\n",
      "        ...,\n",
      "\n",
      "\n",
      "        [[[0., 0., 0.,  ..., 0., 0., 0.],\n",
      "          [0., 0., 0.,  ..., 0., 0., 0.],\n",
      "          [0., 0., 0.,  ..., 0., 0., 0.],\n",
      "          ...,\n",
      "          [0., 0., 0.,  ..., 0., 0., 0.],\n",
      "          [0., 0., 0.,  ..., 0., 0., 0.],\n",
      "          [0., 0., 0.,  ..., 0., 0., 0.]]],\n",
      "\n",
      "\n",
      "        [[[0., 0., 0.,  ..., 0., 0., 0.],\n",
      "          [0., 0., 0.,  ..., 0., 0., 0.],\n",
      "          [0., 0., 0.,  ..., 0., 0., 0.],\n",
      "          ...,\n",
      "          [0., 0., 0.,  ..., 0., 0., 0.],\n",
      "          [0., 0., 0.,  ..., 0., 0., 0.],\n",
      "          [0., 0., 0.,  ..., 0., 0., 0.]]],\n",
      "\n",
      "\n",
      "        [[[0., 0., 0.,  ..., 0., 0., 0.],\n",
      "          [0., 0., 0.,  ..., 0., 0., 0.],\n",
      "          [0., 0., 0.,  ..., 0., 0., 0.],\n",
      "          ...,\n",
      "          [0., 0., 0.,  ..., 0., 0., 0.],\n",
      "          [0., 0., 0.,  ..., 0., 0., 0.],\n",
      "          [0., 0., 0.,  ..., 0., 0., 0.]]]]), tensor([0, 3, 9, 6, 8, 7, 3, 5, 6, 7])]\n"
     ]
    }
   ],
   "source": [
    "# Check the Data\n",
    "\n",
    "for data in trainset:\n",
    "    print(data)\n",
    "    break"
   ]
  },
  {
   "cell_type": "code",
   "execution_count": 199,
   "id": "6294c443",
   "metadata": {},
   "outputs": [],
   "source": [
    "# x = Image Data of 1 batch (Here, 1 batch has 10 data points)\n",
    "# y = Labels of 1 batch\n",
    "x, y = data"
   ]
  },
  {
   "cell_type": "code",
   "execution_count": 200,
   "id": "ec91954f",
   "metadata": {},
   "outputs": [
    {
     "data": {
      "text/plain": [
       "torch.Size([1, 28, 28])"
      ]
     },
     "execution_count": 200,
     "metadata": {},
     "output_type": "execute_result"
    }
   ],
   "source": [
    "# Check the first image\n",
    "x[0].shape"
   ]
  },
  {
   "cell_type": "code",
   "execution_count": 201,
   "id": "ee281807",
   "metadata": {},
   "outputs": [
    {
     "name": "stdout",
     "output_type": "stream",
     "text": [
      "tensor([0, 3, 9, 6, 8, 7, 3, 5, 6, 7])\n"
     ]
    }
   ],
   "source": [
    "print(y)"
   ]
  },
  {
   "cell_type": "code",
   "execution_count": 202,
   "id": "4d1e7116",
   "metadata": {},
   "outputs": [
    {
     "name": "stdout",
     "output_type": "stream",
     "text": [
      "0 : 9.87 %\n",
      "1 : 11.24 %\n",
      "2 : 9.93 %\n",
      "3 : 10.22 %\n",
      "4 : 9.74 %\n",
      "5 : 9.04 %\n",
      "6 : 9.86 %\n",
      "7 : 10.44 %\n",
      "8 : 9.75 %\n",
      "9 : 9.91 %\n"
     ]
    }
   ],
   "source": [
    "# Checking if Data Imbalance is present in Dataset\n",
    "\n",
    "total = 0\n",
    "\n",
    "counter_dict = {0:0,\n",
    "                1:0,\n",
    "                2:0,\n",
    "                3:0,\n",
    "                4:0,\n",
    "                5:0,\n",
    "                6:0,\n",
    "                7:0,\n",
    "                8:0,\n",
    "                9:0}\n",
    "\n",
    "for data in trainset:\n",
    "    Xs, ys = data\n",
    "    for y in ys:\n",
    "        counter_dict[int(y)] += 1\n",
    "        total += 1\n",
    "        \n",
    "for key in counter_dict:\n",
    "    counter_dict[key] = counter_dict[key] * 100 / total\n",
    "    print(key, \":\", round(counter_dict[key], 2), \"%\")\n",
    "    \n",
    "# Almost equal distribution, nothing to worry about"
   ]
  },
  {
   "cell_type": "code",
   "execution_count": 203,
   "id": "4648e049",
   "metadata": {},
   "outputs": [
    {
     "data": {
      "text/plain": [
       "<matplotlib.image.AxesImage at 0x28ece9a30>"
      ]
     },
     "execution_count": 203,
     "metadata": {},
     "output_type": "execute_result"
    },
    {
     "data": {
      "image/png": "[encoded data removed]",
      "text/plain": [
       "<Figure size 640x480 with 1 Axes>"
      ]
     },
     "metadata": {},
     "output_type": "display_data"
    }
   ],
   "source": [
    "import matplotlib.pyplot as plt\n",
    "\n",
    "plt.imshow(x[0].view([28, 28]))"
   ]
  },
  {
   "cell_type": "markdown",
   "id": "1657eae3",
   "metadata": {},
   "source": [
    "<h3>Building the Neural Net</h3>"
   ]
  },
  {
   "cell_type": "code",
   "execution_count": 204,
   "id": "51751234",
   "metadata": {},
   "outputs": [],
   "source": [
    "import torch.nn as nn\n",
    "import torch.nn.functional as F"
   ]
  },
  {
   "cell_type": "code",
   "execution_count": 206,
   "id": "8985629f",
   "metadata": {},
   "outputs": [
    {
     "name": "stdout",
     "output_type": "stream",
     "text": [
      "Net(\n",
      "  (fc1): Linear(in_features=784, out_features=64, bias=True)\n",
      "  (fc2): Linear(in_features=64, out_features=64, bias=True)\n",
      "  (fc3): Linear(in_features=64, out_features=64, bias=True)\n",
      "  (fc4): Linear(in_features=64, out_features=10, bias=True)\n",
      ")\n"
     ]
    }
   ],
   "source": [
    "class Net(nn.Module):\n",
    "    \n",
    "    def __init__(self):\n",
    "        super().__init__()\n",
    "        \n",
    "        # fc1 = Fully Connected '1'st layer with '28*28' i/p & '64' o/p\n",
    "        self.fc1 = nn.Linear(28*28, 64)\n",
    "        self.fc2 = nn.Linear(64, 64)\n",
    "        self.fc3 = nn.Linear(64, 64)\n",
    "        self.fc4 = nn.Linear(64, 10)\n",
    "    \n",
    "    def forward(self, x): # Feed Forward Method \n",
    "        \n",
    "        x = self.fc1(x) # Pass data 'x' through layer.\n",
    "        x = F.relu(x) # Use the activation function in 'torch.nn.functional as F' helper library\n",
    "        \n",
    "        x = F.relu(self.fc2(x))\n",
    "        x = F.relu(self.fc3(x))\n",
    "        x = self.fc4(x)\n",
    "        \n",
    "        return F.log_softmax(x, dim=1) # 'dim=1' will aim to make summation of Probab(classes) equal to 1\n",
    "        # 'dim=0' will aim to make summation of Probab across batches = 1 -> WRONG\n",
    "    \n",
    "    \n",
    "net = Net()\n",
    "print(net)"
   ]
  },
  {
   "cell_type": "markdown",
   "id": "f3ffb7b5",
   "metadata": {},
   "source": [
    "<h4>*** Extra ***\n",
    "    \n",
    "In forward() function\n",
    "you can specify:</h4>\n",
    "\n",
    "if weather == 'sunny':\n",
    "\n",
    "    x = F.relu(self.fc2(x))\n",
    "    \n",
    "else:\n",
    "\n",
    "    x = F.softmax(self.fc2(x))\n",
    "    \n",
    "    \n",
    "and build complex networks & models!"
   ]
  },
  {
   "cell_type": "code",
   "execution_count": 208,
   "id": "37267c00",
   "metadata": {},
   "outputs": [],
   "source": [
    "# Let's check if the neural net is working\n",
    "# Creating a random input array\n",
    "\n",
    "X = torch.rand([28, 28])\n",
    "X = X.view([1, 28*28])\n"
   ]
  },
  {
   "cell_type": "code",
   "execution_count": 209,
   "id": "e8c2b455",
   "metadata": {},
   "outputs": [],
   "source": [
    "output = net(X)"
   ]
  },
  {
   "cell_type": "code",
   "execution_count": 210,
   "id": "4c2c7f97",
   "metadata": {},
   "outputs": [
    {
     "data": {
      "text/plain": [
       "tensor([[-2.3919, -2.2632, -2.3243, -2.3167, -2.4719, -2.1425, -2.2302, -2.2590,\n",
       "         -2.3464, -2.3165]], grad_fn=<LogSoftmaxBackward0>)"
      ]
     },
     "execution_count": 210,
     "metadata": {},
     "output_type": "execute_result"
    }
   ],
   "source": [
    "output"
   ]
  },
  {
   "cell_type": "markdown",
   "id": "0fade0a1",
   "metadata": {},
   "source": [
    "<h3>Model Training</h3>"
   ]
  },
  {
   "cell_type": "code",
   "execution_count": 211,
   "id": "fbba57c3",
   "metadata": {},
   "outputs": [],
   "source": [
    "# Important: Loss & Optimizer\n",
    "\n",
    "# Loss: E.g. 60% confidence it's a '1' & \n",
    "#            20% confidence it's a '2'.\n",
    "# We WANT loss to be lower (i.e.) 100% confidence it's a '1'.\n",
    "\n",
    "# Optimizer will aim to lower the loss over time (based on learning rate).\n",
    "\n",
    "# Note: WE optimize for loss, and accuracy automatically follows."
   ]
  },
  {
   "cell_type": "code",
   "execution_count": 226,
   "id": "f30cf75a",
   "metadata": {},
   "outputs": [],
   "source": [
    "# Calculate Accuracy of Model\n",
    "\n",
    "def CheckAccuracy():\n",
    "    correct = 0\n",
    "    total = 0\n",
    "    \n",
    "    # net.eval() deactivates Dropout & BatchNorm. Required when testing accuracy.\n",
    "    with torch.no_grad():\n",
    "        for data in testset:\n",
    "            X, y = data\n",
    "            output = net(X.view(-1, 28*28))\n",
    "\n",
    "            for idx, i in enumerate(output):\n",
    "                if torch.argmax(i) == y[idx]:\n",
    "                    correct += 1\n",
    "                total += 1\n",
    "                \n",
    "    return round(correct/total, 3)"
   ]
  },
  {
   "cell_type": "code",
   "execution_count": 227,
   "id": "86d046cf",
   "metadata": {},
   "outputs": [],
   "source": [
    "# net.train() activates Dropout & BatchNorm\n",
    "net = net.train()"
   ]
  },
  {
   "cell_type": "code",
   "execution_count": 228,
   "id": "7a87abb9",
   "metadata": {},
   "outputs": [
    {
     "name": "stdout",
     "output_type": "stream",
     "text": [
      "Epoch 1 completed. Loss = 0.004478464834392071, Accuracy = 0.975\n",
      "Epoch 2 completed. Loss = 1.3708980759474798e-06, Accuracy = 0.973\n",
      "Epoch 3 completed. Loss = 6.35803589830175e-05, Accuracy = 0.977\n",
      "Epoch 4 completed. Loss = 4.887570526079799e-07, Accuracy = 0.975\n",
      "Epoch 5 completed. Loss = 3.539889439707622e-05, Accuracy = 0.974\n",
      "Epoch 6 completed. Loss = 0.0003659407957457006, Accuracy = 0.974\n",
      "Epoch 7 completed. Loss = 0.0104250842705369, Accuracy = 0.974\n",
      "Epoch 8 completed. Loss = 4.3272038965369575e-06, Accuracy = 0.974\n",
      "Epoch 9 completed. Loss = 0.0, Accuracy = 0.973\n",
      "Epoch 10 completed. Loss = 0.0005603875615634024, Accuracy = 0.978\n"
     ]
    }
   ],
   "source": [
    "import torch.optim as optim\n",
    "\n",
    "optimizer = optim.Adam(net.parameters(), lr = 0.001)\n",
    "\n",
    "# 1 Whole pass through Dataset = 1 Epoch\n",
    "EPOCHS = 10\n",
    "\n",
    "# To plot the graphs\n",
    "loss_per_epoch = []\n",
    "accuracy_per_epoch = []\n",
    "\n",
    "for epoch in range(EPOCHS):\n",
    "    for data in trainset:\n",
    "        # data is a batch of featuresets and labels\n",
    "        X, y = data\n",
    "        \n",
    "        net.zero_grad()\n",
    "        \n",
    "        # Pass data through Neural Network\n",
    "        output = net(X.view(-1, 28*28)) \n",
    "        \n",
    "        # Here, since output is just 1 value, use 'nll' loss\n",
    "        loss = F.nll_loss(output, y) # If your data is a '1-hot vector', use mean squared error.\n",
    "        loss.backward()\n",
    "        \n",
    "        optimizer.step()\n",
    "    \n",
    "    # Verbose\n",
    "    accu = CheckAccuracy()\n",
    "    print(f\"Epoch {epoch+1} completed. Loss = {loss}, Accuracy = {accu}\")\n",
    "    \n",
    "    # To plot graphs\n",
    "    loss_per_epoch.append(loss)\n",
    "    accuracy_per_epoch.append(accu)"
   ]
  },
  {
   "cell_type": "code",
   "execution_count": 229,
   "id": "7f16799b",
   "metadata": {},
   "outputs": [],
   "source": [
    "loss_per_epoch = [float(x) for x in loss_per_epoch]\n",
    "accuracy_per_epoch = [float(x) for x in accuracy_per_epoch]"
   ]
  },
  {
   "cell_type": "code",
   "execution_count": 235,
   "id": "9d64e5ff",
   "metadata": {},
   "outputs": [
    {
     "data": {
      "text/plain": [
       "Text(0, 0.5, 'Loss')"
      ]
     },
     "execution_count": 235,
     "metadata": {},
     "output_type": "execute_result"
    },
    {
     "data": {
      "image/png": "[encoded data removed]",
      "text/plain": [
       "<Figure size 640x480 with 1 Axes>"
      ]
     },
     "metadata": {},
     "output_type": "display_data"
    }
   ],
   "source": [
    "plt.plot(range(len(loss_per_epoch)), loss_per_epoch)\n",
    "plt.xlabel(\"Epoch\")\n",
    "plt.ylabel(\"Loss\")"
   ]
  },
  {
   "cell_type": "code",
   "execution_count": 237,
   "id": "e82e4a8e",
   "metadata": {},
   "outputs": [
    {
     "data": {
      "text/plain": [
       "Text(0, 0.5, 'Loss')"
      ]
     },
     "execution_count": 237,
     "metadata": {},
     "output_type": "execute_result"
    },
    {
     "data": {
      "image/png": "[encoded data removed]",
      "text/plain": [
       "<Figure size 640x480 with 1 Axes>"
      ]
     },
     "metadata": {},
     "output_type": "display_data"
    }
   ],
   "source": [
    "plt.plot(range(len(accuracy_per_epoch)), accuracy_per_epoch)\n",
    "plt.xlabel(\"Accuracy\")\n",
    "plt.ylabel(\"Loss\")"
   ]
  },
  {
   "cell_type": "code",
   "execution_count": 238,
   "id": "40aefc22",
   "metadata": {},
   "outputs": [
    {
     "data": {
      "image/png": "[encoded data removed]",
      "text/plain": [
       "<Figure size 640x480 with 1 Axes>"
      ]
     },
     "metadata": {},
     "output_type": "display_data"
    }
   ],
   "source": [
    "# Checking manually for Image & Output\n",
    "\n",
    "import matplotlib.pyplot as plt\n",
    "\n",
    "plt.imshow(X[3].view(28, 28))\n",
    "plt.show()"
   ]
  },
  {
   "cell_type": "code",
   "execution_count": 249,
   "id": "cdb17dba",
   "metadata": {},
   "outputs": [
    {
     "data": {
      "text/plain": [
       "tensor(6)"
      ]
     },
     "execution_count": 249,
     "metadata": {},
     "output_type": "execute_result"
    }
   ],
   "source": [
    "out = net(X[3].view(-1, 784))\n",
    "out = out[0]\n",
    "torch.argmax(out)"
   ]
  },
  {
   "cell_type": "code",
   "execution_count": null,
   "id": "1f6da2eb",
   "metadata": {},
   "outputs": [],
   "source": []
  }
 ],
 "metadata": {
  "kernelspec": {
   "display_name": "Python 3 (ipykernel)",
   "language": "python",
   "name": "python3"
  },
  "language_info": {
   "codemirror_mode": {
    "name": "ipython",
    "version": 3
   },
   "file_extension": ".py",
   "mimetype": "text/x-python",
   "name": "python",
   "nbconvert_exporter": "python",
   "pygments_lexer": "ipython3",
   "version": "3.8.16"
  }
 },
 "nbformat": 4,
 "nbformat_minor": 5
}
