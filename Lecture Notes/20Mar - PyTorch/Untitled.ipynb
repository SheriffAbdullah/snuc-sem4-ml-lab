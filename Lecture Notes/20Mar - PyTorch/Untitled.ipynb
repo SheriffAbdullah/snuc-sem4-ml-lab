{
 "cells": [
  {
   "cell_type": "code",
   "execution_count": 1,
   "id": "4953d958",
   "metadata": {},
   "outputs": [],
   "source": [
    "import keras"
   ]
  },
  {
   "cell_type": "code",
   "execution_count": 7,
   "id": "4f8ce969",
   "metadata": {},
   "outputs": [],
   "source": [
    "from keras.models import Sequential\n",
    "from keras.layers import Dense\n",
    "from keras.layers import Conv2D, MaxPooling2D, Flatten  "
   ]
  },
  {
   "cell_type": "code",
   "execution_count": 10,
   "id": "9b351773",
   "metadata": {},
   "outputs": [],
   "source": [
    "model = Sequential()\n",
    "\n",
    "model.add(\n",
    "    Dense(12, input_shape=(8,), activation='sigmoid')\n",
    ")\n",
    "\n",
    "model.add(    Dense(100, activation='sigmoid'),\n",
    ")\n",
    "\n",
    "model.add(    Dense(1, activation='sigmoid'))\n",
    "model.compile(loss='binary_cross_entropy', optimizer='adam')\n",
    "\n",
    "model.fit(X, y, epochs=100, batch_size=10)"
   ]
  },
  {
   "cell_type": "code",
   "execution_count": null,
   "id": "28a6cf45",
   "metadata": {},
   "outputs": [],
   "source": [
    "model.evaluate()"
   ]
  }
 ],
 "metadata": {
  "kernelspec": {
   "display_name": "Python 3 (ipykernel)",
   "language": "python",
   "name": "python3"
  },
  "language_info": {
   "codemirror_mode": {
    "name": "ipython",
    "version": 3
   },
   "file_extension": ".py",
   "mimetype": "text/x-python",
   "name": "python",
   "nbconvert_exporter": "python",
   "pygments_lexer": "ipython3",
   "version": "3.8.16"
  }
 },
 "nbformat": 4,
 "nbformat_minor": 5
}
